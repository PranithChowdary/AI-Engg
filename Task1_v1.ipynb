{
 "cells": [
  {
   "cell_type": "code",
   "execution_count": 2,
   "id": "22ed33a6",
   "metadata": {},
   "outputs": [
    {
     "name": "stdout",
     "output_type": "stream",
     "text": [
      "\n",
      "\u001b[1m[\u001b[0m\u001b[34;49mnotice\u001b[0m\u001b[1;39;49m]\u001b[0m\u001b[39;49m A new release of pip is available: \u001b[0m\u001b[31;49m25.1.1\u001b[0m\u001b[39;49m -> \u001b[0m\u001b[32;49m25.2\u001b[0m\n",
      "\u001b[1m[\u001b[0m\u001b[34;49mnotice\u001b[0m\u001b[1;39;49m]\u001b[0m\u001b[39;49m To update, run: \u001b[0m\u001b[32;49mpip install --upgrade pip\u001b[0m\n",
      "\n",
      "\u001b[1m[\u001b[0m\u001b[34;49mnotice\u001b[0m\u001b[1;39;49m]\u001b[0m\u001b[39;49m A new release of pip is available: \u001b[0m\u001b[31;49m25.1.1\u001b[0m\u001b[39;49m -> \u001b[0m\u001b[32;49m25.2\u001b[0m\n",
      "\u001b[1m[\u001b[0m\u001b[34;49mnotice\u001b[0m\u001b[1;39;49m]\u001b[0m\u001b[39;49m To update, run: \u001b[0m\u001b[32;49mpip install --upgrade pip\u001b[0m\n"
     ]
    }
   ],
   "source": [
    "!pip install -q transformers datasets pytesseract pdf2image poppler-utils torchvision\n",
    "!pip install -q pytorch-lightning"
   ]
  },
  {
   "cell_type": "code",
   "execution_count": 3,
   "id": "c685d82b",
   "metadata": {},
   "outputs": [],
   "source": [
    "from pdf2image import convert_from_path\n",
    "import pytesseract\n",
    "import torch\n",
    "from transformers import LayoutLMv3Processor, LayoutLMv3ForTokenClassification\n",
    "from PIL import Image\n",
    "import os"
   ]
  },
  {
   "cell_type": "code",
   "execution_count": 4,
   "id": "5fbd0b9d",
   "metadata": {},
   "outputs": [],
   "source": [
    "images = convert_from_path(\"Input - Construction_Drawings.pdf\", dpi=200)\n",
    "\n",
    "# Save and view first 3 pages\n",
    "for i, img in enumerate(images[:3]):\n",
    "    img.save(f\"page_{i+1}.png\")\n",
    "    img.show()"
   ]
  },
  {
   "cell_type": "code",
   "execution_count": 8,
   "id": "9807ee7a",
   "metadata": {},
   "outputs": [],
   "source": [
    "def apply_ocr_and_normalize(image):\n",
    "    width, height = image.size\n",
    "    data = pytesseract.image_to_data(image, output_type=pytesseract.Output.DICT)\n",
    "\n",
    "    words, boxes = [], []\n",
    "\n",
    "    for i in range(len(data['text'])):\n",
    "        if int(data['conf'][i]) > 60 and data['text'][i].strip() != \"\":\n",
    "            x, y, w, h = data['left'][i], data['top'][i], data['width'][i], data['height'][i]\n",
    "            \n",
    "            # Normalize to 0–1000\n",
    "            x0 = int((x / width) * 1000)\n",
    "            y0 = int((y / height) * 1000)\n",
    "            x1 = int(((x + w) / width) * 1000)\n",
    "            y1 = int(((y + h) / height) * 1000)\n",
    "\n",
    "            words.append(data['text'][i])\n",
    "            boxes.append([x0, y0, x1, y1])\n",
    "    \n",
    "    return words, boxes"
   ]
  },
  {
   "cell_type": "code",
   "execution_count": 9,
   "id": "80c71123",
   "metadata": {},
   "outputs": [],
   "source": [
    "def prepare_input(image_path):\n",
    "    image = Image.open(image_path).convert(\"RGB\")\n",
    "    words, boxes = apply_ocr_and_normalize(image)\n",
    "    \n",
    "    encoding = processor(image, words, boxes=boxes, return_tensors=\"pt\", truncation=True, padding=\"max_length\")\n",
    "    return encoding, words, boxes"
   ]
  },
  {
   "cell_type": "code",
   "execution_count": 10,
   "id": "79852f10",
   "metadata": {},
   "outputs": [
    {
     "name": "stderr",
     "output_type": "stream",
     "text": [
      "Some weights of LayoutLMv3ForTokenClassification were not initialized from the model checkpoint at microsoft/layoutlmv3-base and are newly initialized: ['classifier.bias', 'classifier.weight']\n",
      "You should probably TRAIN this model on a down-stream task to be able to use it for predictions and inference.\n",
      "huggingface/tokenizers: The current process just got forked, after parallelism has already been used. Disabling parallelism to avoid deadlocks...\n",
      "To disable this warning, you can either:\n",
      "\t- Avoid using `tokenizers` before the fork if possible\n",
      "\t- Explicitly set the environment variable TOKENIZERS_PARALLELISM=(true | false)\n",
      "/Library/Frameworks/Python.framework/Versions/3.12/lib/python3.12/site-packages/transformers/modeling_utils.py:1735: FutureWarning: The `device` argument is deprecated and will be removed in v5 of Transformers.\n",
      "  warnings.warn(\n"
     ]
    }
   ],
   "source": [
    "model = LayoutLMv3ForTokenClassification.from_pretrained(\"microsoft/layoutlmv3-base\", num_labels=5)  # TODO: fine-tune\n",
    "\n",
    "encoding, words, boxes = prepare_input(\"page_1.png\")\n",
    "outputs = model(**encoding)\n",
    "predictions = torch.argmax(outputs.logits, dim=-1).squeeze().tolist()\n"
   ]
  },
  {
   "cell_type": "code",
   "execution_count": 11,
   "id": "2c7fb1df",
   "metadata": {},
   "outputs": [
    {
     "data": {
      "text/html": [
       "<div>\n",
       "<style scoped>\n",
       "    .dataframe tbody tr th:only-of-type {\n",
       "        vertical-align: middle;\n",
       "    }\n",
       "\n",
       "    .dataframe tbody tr th {\n",
       "        vertical-align: top;\n",
       "    }\n",
       "\n",
       "    .dataframe thead th {\n",
       "        text-align: right;\n",
       "    }\n",
       "</style>\n",
       "<table border=\"1\" class=\"dataframe\">\n",
       "  <thead>\n",
       "    <tr style=\"text-align: right;\">\n",
       "      <th></th>\n",
       "      <th>text</th>\n",
       "      <th>label</th>\n",
       "      <th>box</th>\n",
       "    </tr>\n",
       "  </thead>\n",
       "  <tbody>\n",
       "    <tr>\n",
       "      <th>0</th>\n",
       "      <td>FOULGER-PRATT</td>\n",
       "      <td>I-SCOPE</td>\n",
       "      <td>[720, 69, 833, 86]</td>\n",
       "    </tr>\n",
       "    <tr>\n",
       "      <th>1</th>\n",
       "      <td>ISSUED</td>\n",
       "      <td>I-SCOPE</td>\n",
       "      <td>[756, 203, 804, 220]</td>\n",
       "    </tr>\n",
       "    <tr>\n",
       "      <th>2</th>\n",
       "      <td>BID</td>\n",
       "      <td>I-SCOPE</td>\n",
       "      <td>[928, 203, 950, 220]</td>\n",
       "    </tr>\n",
       "    <tr>\n",
       "      <th>3</th>\n",
       "      <td>05.28.15</td>\n",
       "      <td>I-SCOPE</td>\n",
       "      <td>[912, 230, 950, 243]</td>\n",
       "    </tr>\n",
       "    <tr>\n",
       "      <th>4</th>\n",
       "      <td>Copyright</td>\n",
       "      <td>I-SCOPE</td>\n",
       "      <td>[913, 976, 923, 980]</td>\n",
       "    </tr>\n",
       "    <tr>\n",
       "      <th>5</th>\n",
       "      <td>Perkins+Will</td>\n",
       "      <td>I-SCOPE</td>\n",
       "      <td>[934, 976, 947, 979]</td>\n",
       "    </tr>\n",
       "    <tr>\n",
       "      <th>6</th>\n",
       "      <td>.</td>\n",
       "      <td>I-SCOPE</td>\n",
       "      <td>[275, 581, 275, 582]</td>\n",
       "    </tr>\n",
       "    <tr>\n",
       "      <th>7</th>\n",
       "      <td>PERKINS</td>\n",
       "      <td>I-SCOPE</td>\n",
       "      <td>[849, 900, 955, 918]</td>\n",
       "    </tr>\n",
       "    <tr>\n",
       "      <th>8</th>\n",
       "      <td>+WILL</td>\n",
       "      <td>I-SCOPE</td>\n",
       "      <td>[877, 933, 954, 951]</td>\n",
       "    </tr>\n",
       "    <tr>\n",
       "      <th>9</th>\n",
       "      <td>ill.com</td>\n",
       "      <td>I-SCOPE</td>\n",
       "      <td>[159, 967, 184, 976]</td>\n",
       "    </tr>\n",
       "    <tr>\n",
       "      <th>10</th>\n",
       "      <td>+A</td>\n",
       "      <td>I-SCOPE</td>\n",
       "      <td>[72, 968, 88, 978]</td>\n",
       "    </tr>\n",
       "    <tr>\n",
       "      <th>11</th>\n",
       "      <td>Wd</td>\n",
       "      <td>I-SCOPE</td>\n",
       "      <td>[39, 946, 41, 951]</td>\n",
       "    </tr>\n",
       "  </tbody>\n",
       "</table>\n",
       "</div>"
      ],
      "text/plain": [
       "             text    label                   box\n",
       "0   FOULGER-PRATT  I-SCOPE    [720, 69, 833, 86]\n",
       "1          ISSUED  I-SCOPE  [756, 203, 804, 220]\n",
       "2             BID  I-SCOPE  [928, 203, 950, 220]\n",
       "3        05.28.15  I-SCOPE  [912, 230, 950, 243]\n",
       "4       Copyright  I-SCOPE  [913, 976, 923, 980]\n",
       "5    Perkins+Will  I-SCOPE  [934, 976, 947, 979]\n",
       "6               .  I-SCOPE  [275, 581, 275, 582]\n",
       "7         PERKINS  I-SCOPE  [849, 900, 955, 918]\n",
       "8           +WILL  I-SCOPE  [877, 933, 954, 951]\n",
       "9         ill.com  I-SCOPE  [159, 967, 184, 976]\n",
       "10             +A  I-SCOPE    [72, 968, 88, 978]\n",
       "11             Wd  I-SCOPE    [39, 946, 41, 951]"
      ]
     },
     "execution_count": 11,
     "metadata": {},
     "output_type": "execute_result"
    }
   ],
   "source": [
    "label_map = {\n",
    "    0: \"O\",  # Outside any entity\n",
    "    1: \"B-MATERIAL\",\n",
    "    2: \"I-MATERIAL\",\n",
    "    3: \"B-SCOPE\",\n",
    "    4: \"I-SCOPE\",\n",
    "    # Extend as needed\n",
    "}\n",
    "\n",
    "entities = []\n",
    "for word, pred, box in zip(words, predictions, boxes):\n",
    "    label = label_map.get(pred, \"O\")\n",
    "    if label != \"O\":\n",
    "        entities.append({\"text\": word, \"label\": label, \"box\": box})\n",
    "\n",
    "import pandas as pd\n",
    "pd.DataFrame(entities)\n"
   ]
  },
  {
   "cell_type": "code",
   "execution_count": 3,
   "id": "5b7905aa",
   "metadata": {},
   "outputs": [
    {
     "name": "stdout",
     "output_type": "stream",
     "text": [
      "Found existing installation: numpy 2.2.6\n",
      "Uninstalling numpy-2.2.6:\n",
      "  Successfully uninstalled numpy-2.2.6\n"
     ]
    }
   ],
   "source": [
    "!pip uninstall numpy -y"
   ]
  },
  {
   "cell_type": "code",
   "execution_count": 5,
   "id": "217b6d89",
   "metadata": {},
   "outputs": [
    {
     "name": "stdout",
     "output_type": "stream",
     "text": [
      "Collecting numpy\n",
      "  Using cached numpy-2.3.2-cp312-cp312-macosx_14_0_arm64.whl.metadata (62 kB)\n",
      "Using cached numpy-2.3.2-cp312-cp312-macosx_14_0_arm64.whl (5.1 MB)\n",
      "Installing collected packages: numpy\n",
      "\u001b[31mERROR: pip's dependency resolver does not currently take into account all the packages that are installed. This behaviour is the source of the following dependency conflicts.\n",
      "streamlit 1.3.1 requires altair>=3.2.0, which is not installed.\n",
      "thinc 8.2.5 requires numpy<2.0.0,>=1.19.0; python_version >= \"3.9\", but you have numpy 2.3.2 which is incompatible.\n",
      "pyarrow 15.0.1 requires numpy<2,>=1.16.6, but you have numpy 2.3.2 which is incompatible.\n",
      "gensim 4.3.3 requires numpy<2.0,>=1.18.5, but you have numpy 2.3.2 which is incompatible.\n",
      "pandas-profiling 3.2.0 requires joblib~=1.1.0, but you have joblib 1.4.0 which is incompatible.\n",
      "contourpy 1.2.0 requires numpy<2.0,>=1.20, but you have numpy 2.3.2 which is incompatible.\n",
      "scipy 1.13.0 requires numpy<2.3,>=1.22.4, but you have numpy 2.3.2 which is incompatible.\n",
      "opencv-python-headless 4.12.0.88 requires numpy<2.3.0,>=2; python_version >= \"3.9\", but you have numpy 2.3.2 which is incompatible.\n",
      "streamlit 1.3.1 requires click<8.0,>=7.0, but you have click 8.2.2 which is incompatible.\n",
      "tensorflow 2.16.0rc0 requires numpy<2.0.0,>=1.26.0; python_version >= \"3.12\", but you have numpy 2.3.2 which is incompatible.\n",
      "matplotlib 3.8.3 requires numpy<2,>=1.21, but you have numpy 2.3.2 which is incompatible.\u001b[0m\u001b[31m\n",
      "\u001b[0mSuccessfully installed numpy-2.3.2\n",
      "\n",
      "\u001b[1m[\u001b[0m\u001b[34;49mnotice\u001b[0m\u001b[1;39;49m]\u001b[0m\u001b[39;49m A new release of pip is available: \u001b[0m\u001b[31;49m25.1.1\u001b[0m\u001b[39;49m -> \u001b[0m\u001b[32;49m25.2\u001b[0m\n",
      "\u001b[1m[\u001b[0m\u001b[34;49mnotice\u001b[0m\u001b[1;39;49m]\u001b[0m\u001b[39;49m To update, run: \u001b[0m\u001b[32;49mpip install --upgrade pip\u001b[0m\n",
      "Note: you may need to restart the kernel to use updated packages.\n"
     ]
    }
   ],
   "source": [
    "pip install numpy"
   ]
  },
  {
   "cell_type": "code",
   "execution_count": 6,
   "id": "6943eaab",
   "metadata": {},
   "outputs": [],
   "source": [
    "import pandas as pd\n",
    "mep = pd.read_excel(\"MEP - Checklist.xlsx\", sheet_name=None)"
   ]
  },
  {
   "cell_type": "code",
   "execution_count": 17,
   "id": "9addf8cb",
   "metadata": {},
   "outputs": [
    {
     "data": {
      "text/plain": [
       "Index(['Scope of Work', 'Checklist'], dtype='object')"
      ]
     },
     "execution_count": 17,
     "metadata": {},
     "output_type": "execute_result"
    }
   ],
   "source": [
    "mep['MEP'].keys()"
   ]
  },
  {
   "cell_type": "code",
   "execution_count": 23,
   "id": "d8815b94",
   "metadata": {},
   "outputs": [],
   "source": [
    "m = pd.DataFrame(mep['MEP'])"
   ]
  },
  {
   "cell_type": "code",
   "execution_count": 28,
   "id": "c5fcb95e",
   "metadata": {},
   "outputs": [
    {
     "data": {
      "text/plain": [
       "0    Confirm Eyewash counts.  HWH for these if port...\n",
       "1    Confirm sanitary piping for any recessed walk ...\n",
       "2              Confirm stone backfill inside buildings\n",
       "3    Confirms pumps (sumps) triple basins, grease /...\n",
       "4                   Anything required for guard shack?\n",
       "Name: Checklist, dtype: object"
      ]
     },
     "execution_count": 28,
     "metadata": {},
     "output_type": "execute_result"
    }
   ],
   "source": [
    "m['Checklist'][0:5] # Display first 5 rows"
   ]
  },
  {
   "cell_type": "code",
   "execution_count": null,
   "id": "cd839e0c",
   "metadata": {},
   "outputs": [],
   "source": []
  }
 ],
 "metadata": {
  "kernelspec": {
   "display_name": "Python 3",
   "language": "python",
   "name": "python3"
  },
  "language_info": {
   "codemirror_mode": {
    "name": "ipython",
    "version": 3
   },
   "file_extension": ".py",
   "mimetype": "text/x-python",
   "name": "python",
   "nbconvert_exporter": "python",
   "pygments_lexer": "ipython3",
   "version": "3.12.1"
  }
 },
 "nbformat": 4,
 "nbformat_minor": 5
}
