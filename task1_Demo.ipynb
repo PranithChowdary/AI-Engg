{
 "cells": [
  {
   "cell_type": "code",
   "execution_count": 13,
   "id": "f2a29663",
   "metadata": {},
   "outputs": [],
   "source": [
    "import gradio as gr\n",
    "from pdf2image import convert_from_bytes\n",
    "from PIL import Image, ImageDraw\n",
    "import pytesseract\n",
    "\n",
    "# OCR config\n",
    "custom_oem_psm_config = r'--oem 3 --psm 6'\n",
    "\n",
    "# Function to draw OCR segments\n",
    "def draw_ocr_boxes(image):\n",
    "    draw = ImageDraw.Draw(image)\n",
    "    w, h = image.size\n",
    "    data = pytesseract.image_to_data(image, config=custom_oem_psm_config, output_type=pytesseract.Output.DICT)\n",
    "\n",
    "    for i in range(len(data[\"text\"])):\n",
    "        if int(data[\"conf\"][i]) > 60 and data[\"text\"][i].strip():\n",
    "            (x, y, w_box, h_box) = (data[\"left\"][i], data[\"top\"][i], data[\"width\"][i], data[\"height\"][i])\n",
    "            draw.rectangle([x, y, x + w_box, y + h_box], outline=\"red\", width=2)\n",
    "            draw.text((x, y - 10), data[\"text\"][i][:15], fill=\"blue\")\n",
    "\n",
    "    return image\n",
    "\n",
    "# Main function: take PDF and output annotated pages\n",
    "def process_pdf(pdf_file):\n",
    "    # Convert PDF pages to images\n",
    "    images = convert_from_bytes(pdf_file, dpi=200, first_page=1, last_page=4)\n",
    "    results = []\n",
    "\n",
    "    for img in images:\n",
    "        annotated_img = draw_ocr_boxes(img.copy())\n",
    "        results.append(annotated_img)\n",
    "\n",
    "    return results"
   ]
  },
  {
   "cell_type": "code",
   "execution_count": 14,
   "id": "61a75a78",
   "metadata": {},
   "outputs": [
    {
     "name": "stdout",
     "output_type": "stream",
     "text": [
      "* Running on local URL:  http://127.0.0.1:7863\n",
      "* To create a public link, set `share=True` in `launch()`.\n"
     ]
    },
    {
     "data": {
      "text/html": [
       "<div><iframe src=\"http://127.0.0.1:7863/\" width=\"100%\" height=\"500\" allow=\"autoplay; camera; microphone; clipboard-read; clipboard-write;\" frameborder=\"0\" allowfullscreen></iframe></div>"
      ],
      "text/plain": [
       "<IPython.core.display.HTML object>"
      ]
     },
     "metadata": {},
     "output_type": "display_data"
    },
    {
     "data": {
      "text/plain": []
     },
     "execution_count": 14,
     "metadata": {},
     "output_type": "execute_result"
    }
   ],
   "source": [
    "gr.Interface(\n",
    "    fn=process_pdf,\n",
    "    inputs=gr.File(type=\"binary\", label=\"Upload a PDF (Max 4 pages for demo)\"),\n",
    "    outputs=gr.Gallery(label=\"Annotated Pages\", columns=2, height=\"auto\"),\n",
    "    title=\"PDF Segment Viewer\",\n",
    "    description=\"Upload a short PDF (3–4 pages). The app will convert pages to images, run OCR, and display bounding boxes.\"\n",
    ").launch()"
   ]
  },
  {
   "cell_type": "code",
   "execution_count": null,
   "id": "0bd19f7f",
   "metadata": {},
   "outputs": [],
   "source": []
  }
 ],
 "metadata": {
  "kernelspec": {
   "display_name": ".venv",
   "language": "python",
   "name": "python3"
  },
  "language_info": {
   "codemirror_mode": {
    "name": "ipython",
    "version": 3
   },
   "file_extension": ".py",
   "mimetype": "text/x-python",
   "name": "python",
   "nbconvert_exporter": "python",
   "pygments_lexer": "ipython3",
   "version": "3.12.1"
  }
 },
 "nbformat": 4,
 "nbformat_minor": 5
}
