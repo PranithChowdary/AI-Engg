{
 "cells": [
  {
   "cell_type": "code",
   "execution_count": null,
   "id": "b18bee4d",
   "metadata": {},
   "outputs": [],
   "source": [
    "from docling.document_converter import DocumentConverter\n",
    "\n",
    "source = \"/Users/pranith/Code/AI Proj/Input - Construction_Drawings.pdf\"\n",
    "converter = DocumentConverter()\n",
    "result = converter.convert(source)"
   ]
  },
  {
   "cell_type": "code",
   "execution_count": null,
   "id": "d465c003",
   "metadata": {},
   "outputs": [],
   "source": [
    "# Save Markdown\n",
    "with open(\"construction_drawings.md\", \"w\") as f:\n",
    "    f.write(result.document.export_to_markdown())"
   ]
  },
  {
   "cell_type": "code",
   "execution_count": 4,
   "id": "345877df",
   "metadata": {},
   "outputs": [],
   "source": [
    "# Save JSON\n",
    "result.document.save_as_json(\"construction_drawings.json\")"
   ]
  },
  {
   "cell_type": "code",
   "execution_count": 4,
   "id": "2844d735",
   "metadata": {},
   "outputs": [
    {
     "name": "stderr",
     "output_type": "stream",
     "text": [
      "/Users/pranith/Code/AI Proj/.venv/lib/python3.12/site-packages/tqdm/auto.py:21: TqdmWarning: IProgress not found. Please update jupyter and ipywidgets. See https://ipywidgets.readthedocs.io/en/stable/user_install.html\n",
      "  from .autonotebook import tqdm as notebook_tqdm\n",
      "/Users/pranith/Code/AI Proj/.venv/lib/python3.12/site-packages/torch/utils/data/dataloader.py:683: UserWarning: 'pin_memory' argument is set as true but not supported on MPS now, then device pinned memory won't be used.\n",
      "  warnings.warn(warn_msg)\n",
      "/Users/pranith/Code/AI Proj/.venv/lib/python3.12/site-packages/torch/utils/data/dataloader.py:683: UserWarning: 'pin_memory' argument is set as true but not supported on MPS now, then device pinned memory won't be used.\n",
      "  warnings.warn(warn_msg)\n"
     ]
    }
   ],
   "source": [
    "from docling.document_converter import DocumentConverter\n",
    "\n",
    "doc2 = '/Users/pranith/Code/AI Proj/Input - Specifications.pdf'\n",
    "converter = DocumentConverter()\n",
    "result2 = converter.convert(doc2)"
   ]
  },
  {
   "cell_type": "code",
   "execution_count": 5,
   "id": "ec14fba8",
   "metadata": {},
   "outputs": [],
   "source": [
    "result2.document.save_as_json(\"specifications.json\")"
   ]
  }
 ],
 "metadata": {
  "kernelspec": {
   "display_name": ".venv",
   "language": "python",
   "name": "python3"
  },
  "language_info": {
   "codemirror_mode": {
    "name": "ipython",
    "version": 3
   },
   "file_extension": ".py",
   "mimetype": "text/x-python",
   "name": "python",
   "nbconvert_exporter": "python",
   "pygments_lexer": "ipython3",
   "version": "3.12.1"
  }
 },
 "nbformat": 4,
 "nbformat_minor": 5
}
